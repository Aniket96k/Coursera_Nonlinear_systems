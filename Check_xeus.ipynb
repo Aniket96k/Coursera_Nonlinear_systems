{
 "cells": [
  {
   "cell_type": "code",
   "execution_count": 1,
   "id": "63c0b8d1-4071-4b71-b102-5a35c3364dee",
   "metadata": {},
   "outputs": [
    {
     "ename": "NameError",
     "evalue": "name 'linspace' is not defined",
     "output_type": "error",
     "traceback": [
      "\u001b[1;31m---------------------------------------------------------------------------\u001b[0m",
      "\u001b[1;31mNameError\u001b[0m                                 Traceback (most recent call last)",
      "Cell \u001b[1;32mIn[1], line 1\u001b[0m\n\u001b[1;32m----> 1\u001b[0m x \u001b[38;5;241m=\u001b[39m \u001b[43mlinspace\u001b[49m(\u001b[38;5;241m0\u001b[39m, \u001b[38;5;241m2\u001b[39m\u001b[38;5;241m*\u001b[39mpi, \u001b[38;5;241m100\u001b[39m);\n\u001b[0;32m      2\u001b[0m y \u001b[38;5;241m=\u001b[39m sin(x);\n\u001b[0;32m      4\u001b[0m plot(x, y);\n",
      "\u001b[1;31mNameError\u001b[0m: name 'linspace' is not defined"
     ]
    }
   ],
   "source": [
    "x = linspace(0, 2*pi, 100);\n",
    "y = sin(x);\n",
    "\n",
    "plot(x, y);\n",
    "title('Sine Wave');\n",
    "xlabel('x');\n",
    "ylabel('sin(x)');"
   ]
  },
  {
   "cell_type": "code",
   "execution_count": null,
   "id": "f51c315e-ef6b-4a32-8699-16a80413f615",
   "metadata": {},
   "outputs": [],
   "source": []
  }
 ],
 "metadata": {
  "kernelspec": {
   "display_name": "Python 3 (ipykernel)",
   "language": "python",
   "name": "python3"
  },
  "language_info": {
   "codemirror_mode": {
    "name": "ipython",
    "version": 3
   },
   "file_extension": ".py",
   "mimetype": "text/x-python",
   "name": "python",
   "nbconvert_exporter": "python",
   "pygments_lexer": "ipython3",
   "version": "3.10.14"
  }
 },
 "nbformat": 4,
 "nbformat_minor": 5
}
